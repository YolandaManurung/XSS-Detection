{
 "cells": [
  {
   "cell_type": "code",
   "execution_count": 1,
   "metadata": {},
   "outputs": [],
   "source": [
    "from sklearn.metrics import confusion_matrix\n",
    "import pandas as pd"
   ]
  },
  {
   "cell_type": "markdown",
   "metadata": {},
   "source": [
    "# Evaluasi Model "
   ]
  },
  {
   "cell_type": "code",
   "execution_count": 9,
   "metadata": {},
   "outputs": [
    {
     "data": {
      "text/html": [
       "<div>\n",
       "<style scoped>\n",
       "    .dataframe tbody tr th:only-of-type {\n",
       "        vertical-align: middle;\n",
       "    }\n",
       "\n",
       "    .dataframe tbody tr th {\n",
       "        vertical-align: top;\n",
       "    }\n",
       "\n",
       "    .dataframe thead th {\n",
       "        text-align: right;\n",
       "    }\n",
       "</style>\n",
       "<table border=\"1\" class=\"dataframe\">\n",
       "  <thead>\n",
       "    <tr style=\"text-align: right;\">\n",
       "      <th></th>\n",
       "      <th>URL</th>\n",
       "      <th>result_model</th>\n",
       "      <th>result_extension</th>\n",
       "    </tr>\n",
       "  </thead>\n",
       "  <tbody>\n",
       "    <tr>\n",
       "      <th>0</th>\n",
       "      <td>http://1501broadway.com/</td>\n",
       "      <td>nonxss</td>\n",
       "      <td>nonxss</td>\n",
       "    </tr>\n",
       "    <tr>\n",
       "      <th>1</th>\n",
       "      <td>http://abcnews.go.com/Business/</td>\n",
       "      <td>nonxss</td>\n",
       "      <td>nonxss</td>\n",
       "    </tr>\n",
       "    <tr>\n",
       "      <th>2</th>\n",
       "      <td>http://academic.brooklyn.cuny.edu/education/jl...</td>\n",
       "      <td>nonxss</td>\n",
       "      <td>nonxss</td>\n",
       "    </tr>\n",
       "    <tr>\n",
       "      <th>3</th>\n",
       "      <td>http://ai-depot.com/</td>\n",
       "      <td>nonxss</td>\n",
       "      <td>nonxss</td>\n",
       "    </tr>\n",
       "    <tr>\n",
       "      <th>4</th>\n",
       "      <td>http://aiinfinance.com/</td>\n",
       "      <td>nonxss</td>\n",
       "      <td>nonxss</td>\n",
       "    </tr>\n",
       "    <tr>\n",
       "      <th>...</th>\n",
       "      <td>...</td>\n",
       "      <td>...</td>\n",
       "      <td>...</td>\n",
       "    </tr>\n",
       "    <tr>\n",
       "      <th>220</th>\n",
       "      <td>http://libguides.mit.edu/searchtags.php?iid=14...</td>\n",
       "      <td>xss</td>\n",
       "      <td>xss</td>\n",
       "    </tr>\n",
       "    <tr>\n",
       "      <th>221</th>\n",
       "      <td>http://libguides.olympic.edu/searchtags.php?ii...</td>\n",
       "      <td>xss</td>\n",
       "      <td>xss</td>\n",
       "    </tr>\n",
       "    <tr>\n",
       "      <th>222</th>\n",
       "      <td>http://libguides.princeton.edu/searchtags.php?...</td>\n",
       "      <td>xss</td>\n",
       "      <td>xss</td>\n",
       "    </tr>\n",
       "    <tr>\n",
       "      <th>223</th>\n",
       "      <td>http://libguides.sbuniv.edu/searchtags.php?iid...</td>\n",
       "      <td>xss</td>\n",
       "      <td>xss</td>\n",
       "    </tr>\n",
       "    <tr>\n",
       "      <th>224</th>\n",
       "      <td>http://libguides.sit.edu/searchtags.php?iid=&amp;t...</td>\n",
       "      <td>xss</td>\n",
       "      <td>xss</td>\n",
       "    </tr>\n",
       "  </tbody>\n",
       "</table>\n",
       "<p>225 rows × 3 columns</p>\n",
       "</div>"
      ],
      "text/plain": [
       "                                                   URL result_model  \\\n",
       "0                             http://1501broadway.com/       nonxss   \n",
       "1                      http://abcnews.go.com/Business/       nonxss   \n",
       "2    http://academic.brooklyn.cuny.edu/education/jl...       nonxss   \n",
       "3                                 http://ai-depot.com/       nonxss   \n",
       "4                              http://aiinfinance.com/       nonxss   \n",
       "..                                                 ...          ...   \n",
       "220  http://libguides.mit.edu/searchtags.php?iid=14...          xss   \n",
       "221  http://libguides.olympic.edu/searchtags.php?ii...          xss   \n",
       "222  http://libguides.princeton.edu/searchtags.php?...          xss   \n",
       "223  http://libguides.sbuniv.edu/searchtags.php?iid...          xss   \n",
       "224  http://libguides.sit.edu/searchtags.php?iid=&t...          xss   \n",
       "\n",
       "    result_extension  \n",
       "0             nonxss  \n",
       "1             nonxss  \n",
       "2             nonxss  \n",
       "3             nonxss  \n",
       "4             nonxss  \n",
       "..               ...  \n",
       "220              xss  \n",
       "221              xss  \n",
       "222              xss  \n",
       "223              xss  \n",
       "224              xss  \n",
       "\n",
       "[225 rows x 3 columns]"
      ]
     },
     "execution_count": 9,
     "metadata": {},
     "output_type": "execute_result"
    }
   ],
   "source": [
    "data_test = pd.read_csv('./EvaluasiModel.csv', encoding='cp1252')\n",
    "data_test"
   ]
  },
  {
   "cell_type": "code",
   "execution_count": 10,
   "metadata": {},
   "outputs": [
    {
     "data": {
      "text/html": [
       "<div>\n",
       "<style scoped>\n",
       "    .dataframe tbody tr th:only-of-type {\n",
       "        vertical-align: middle;\n",
       "    }\n",
       "\n",
       "    .dataframe tbody tr th {\n",
       "        vertical-align: top;\n",
       "    }\n",
       "\n",
       "    .dataframe thead th {\n",
       "        text-align: right;\n",
       "    }\n",
       "</style>\n",
       "<table border=\"1\" class=\"dataframe\">\n",
       "  <thead>\n",
       "    <tr style=\"text-align: right;\">\n",
       "      <th></th>\n",
       "      <th>URL</th>\n",
       "      <th>result_model</th>\n",
       "      <th>result_extension</th>\n",
       "    </tr>\n",
       "  </thead>\n",
       "  <tbody>\n",
       "    <tr>\n",
       "      <th>count</th>\n",
       "      <td>225</td>\n",
       "      <td>225</td>\n",
       "      <td>225</td>\n",
       "    </tr>\n",
       "    <tr>\n",
       "      <th>unique</th>\n",
       "      <td>225</td>\n",
       "      <td>2</td>\n",
       "      <td>2</td>\n",
       "    </tr>\n",
       "    <tr>\n",
       "      <th>top</th>\n",
       "      <td>http://guides.lib.virginia.edu/searchtags.php?...</td>\n",
       "      <td>xss</td>\n",
       "      <td>xss</td>\n",
       "    </tr>\n",
       "    <tr>\n",
       "      <th>freq</th>\n",
       "      <td>1</td>\n",
       "      <td>113</td>\n",
       "      <td>114</td>\n",
       "    </tr>\n",
       "  </tbody>\n",
       "</table>\n",
       "</div>"
      ],
      "text/plain": [
       "                                                      URL result_model  \\\n",
       "count                                                 225          225   \n",
       "unique                                                225            2   \n",
       "top     http://guides.lib.virginia.edu/searchtags.php?...          xss   \n",
       "freq                                                    1          113   \n",
       "\n",
       "       result_extension  \n",
       "count               225  \n",
       "unique                2  \n",
       "top                 xss  \n",
       "freq                114  "
      ]
     },
     "execution_count": 10,
     "metadata": {},
     "output_type": "execute_result"
    }
   ],
   "source": [
    "data_test.describe()"
   ]
  },
  {
   "cell_type": "code",
   "execution_count": 11,
   "metadata": {},
   "outputs": [
    {
     "data": {
      "text/plain": [
       "0"
      ]
     },
     "execution_count": 11,
     "metadata": {},
     "output_type": "execute_result"
    }
   ],
   "source": [
    "data_test['URL'].duplicated().sum()"
   ]
  },
  {
   "cell_type": "code",
   "execution_count": 52,
   "metadata": {},
   "outputs": [
    {
     "name": "stdout",
     "output_type": "stream",
     "text": [
      "[[109   3]\n",
      " [  2 111]]\n"
     ]
    }
   ],
   "source": [
    "from sklearn.metrics import confusion_matrix\n",
    "import pandas as pd\n",
    "\n",
    "data_test = pd.read_csv('./EvaluasiModel.csv', encoding='cp1252')\n",
    "\n",
    "expected = data_test['result_model']\n",
    "predicted = data_test['result_extension']\n",
    "results = confusion_matrix(expected, predicted)\n",
    "print(results)\n",
    "\n",
    "\n",
    "# Output :\n",
    "#              |   pred. nonxss    |   pred. xss    |\n",
    "# true nonxss  |       TP          |       FN       |\n",
    "# true xss     |       FP          |       TN       |"
   ]
  },
  {
   "cell_type": "code",
   "execution_count": 53,
   "metadata": {},
   "outputs": [
    {
     "data": {
      "text/plain": [
       "(109, 2, 3, 111)"
      ]
     },
     "execution_count": 53,
     "metadata": {},
     "output_type": "execute_result"
    }
   ],
   "source": [
    "tp, fp, fn, tn = confusion_matrix(predicted, expected).ravel()\n",
    "(tp, fp, fn, tn)"
   ]
  },
  {
   "cell_type": "markdown",
   "metadata": {},
   "source": [
    "# Eksperimen API "
   ]
  },
  {
   "cell_type": "code",
   "execution_count": 54,
   "metadata": {},
   "outputs": [
    {
     "data": {
      "text/html": [
       "<div>\n",
       "<style scoped>\n",
       "    .dataframe tbody tr th:only-of-type {\n",
       "        vertical-align: middle;\n",
       "    }\n",
       "\n",
       "    .dataframe tbody tr th {\n",
       "        vertical-align: top;\n",
       "    }\n",
       "\n",
       "    .dataframe thead th {\n",
       "        text-align: right;\n",
       "    }\n",
       "</style>\n",
       "<table border=\"1\" class=\"dataframe\">\n",
       "  <thead>\n",
       "    <tr style=\"text-align: right;\">\n",
       "      <th></th>\n",
       "      <th>URL</th>\n",
       "      <th>result_model</th>\n",
       "      <th>result_withAPI</th>\n",
       "      <th>result_withoutAPI</th>\n",
       "    </tr>\n",
       "  </thead>\n",
       "  <tbody>\n",
       "    <tr>\n",
       "      <th>0</th>\n",
       "      <td>http://bucuresti.adagio4.eu/?keywords=Busindre...</td>\n",
       "      <td>XSS</td>\n",
       "      <td>XSS</td>\n",
       "      <td>XSS</td>\n",
       "    </tr>\n",
       "    <tr>\n",
       "      <th>1</th>\n",
       "      <td>http://dublin.adagio4.eu/?keywords=Busindre%22...</td>\n",
       "      <td>XSS</td>\n",
       "      <td>XSS</td>\n",
       "      <td>XSS</td>\n",
       "    </tr>\n",
       "    <tr>\n",
       "      <th>2</th>\n",
       "      <td>http://athinai.adagio4.eu/?keywords=Busindre%2...</td>\n",
       "      <td>XSS</td>\n",
       "      <td>XSS</td>\n",
       "      <td>XSS</td>\n",
       "    </tr>\n",
       "    <tr>\n",
       "      <th>3</th>\n",
       "      <td>http://electionombudsman.adagio4.eu/?keywords=...</td>\n",
       "      <td>XSS</td>\n",
       "      <td>XSS</td>\n",
       "      <td>XSS</td>\n",
       "    </tr>\n",
       "    <tr>\n",
       "      <th>4</th>\n",
       "      <td>http://berlin.adagio4.eu/?keywords=Busindre%22...</td>\n",
       "      <td>XSS</td>\n",
       "      <td>XSS</td>\n",
       "      <td>XSS</td>\n",
       "    </tr>\n",
       "    <tr>\n",
       "      <th>...</th>\n",
       "      <td>...</td>\n",
       "      <td>...</td>\n",
       "      <td>...</td>\n",
       "      <td>...</td>\n",
       "    </tr>\n",
       "    <tr>\n",
       "      <th>4995</th>\n",
       "      <td>http://spots.tibiacity.org/spot.php?user=%3Csc...</td>\n",
       "      <td>XSS</td>\n",
       "      <td>XSS</td>\n",
       "      <td>XSS</td>\n",
       "    </tr>\n",
       "    <tr>\n",
       "      <th>4996</th>\n",
       "      <td>http://webfile.com/search.php?/search.php _cha...</td>\n",
       "      <td>XSS</td>\n",
       "      <td>XSS</td>\n",
       "      <td>XSS</td>\n",
       "    </tr>\n",
       "    <tr>\n",
       "      <th>4997</th>\n",
       "      <td>http://www.hacker-soft.net/search.php?type=nam...</td>\n",
       "      <td>XSS</td>\n",
       "      <td>XSS</td>\n",
       "      <td>XSS</td>\n",
       "    </tr>\n",
       "    <tr>\n",
       "      <th>4998</th>\n",
       "      <td>http://www.eastangliaemails.com/search.php?q=&lt;...</td>\n",
       "      <td>XSS</td>\n",
       "      <td>XSS</td>\n",
       "      <td>XSS</td>\n",
       "    </tr>\n",
       "    <tr>\n",
       "      <th>4999</th>\n",
       "      <td>http://aix.ee.eng.deu.edu.tr/search.php?query=...</td>\n",
       "      <td>XSS</td>\n",
       "      <td>XSS</td>\n",
       "      <td>XSS</td>\n",
       "    </tr>\n",
       "  </tbody>\n",
       "</table>\n",
       "<p>5000 rows × 4 columns</p>\n",
       "</div>"
      ],
      "text/plain": [
       "                                                    URL result_model  \\\n",
       "0     http://bucuresti.adagio4.eu/?keywords=Busindre...          XSS   \n",
       "1     http://dublin.adagio4.eu/?keywords=Busindre%22...          XSS   \n",
       "2     http://athinai.adagio4.eu/?keywords=Busindre%2...          XSS   \n",
       "3     http://electionombudsman.adagio4.eu/?keywords=...          XSS   \n",
       "4     http://berlin.adagio4.eu/?keywords=Busindre%22...          XSS   \n",
       "...                                                 ...          ...   \n",
       "4995  http://spots.tibiacity.org/spot.php?user=%3Csc...          XSS   \n",
       "4996  http://webfile.com/search.php?/search.php _cha...          XSS   \n",
       "4997  http://www.hacker-soft.net/search.php?type=nam...          XSS   \n",
       "4998  http://www.eastangliaemails.com/search.php?q=<...          XSS   \n",
       "4999  http://aix.ee.eng.deu.edu.tr/search.php?query=...          XSS   \n",
       "\n",
       "     result_withAPI result_withoutAPI  \n",
       "0               XSS               XSS  \n",
       "1               XSS               XSS  \n",
       "2               XSS               XSS  \n",
       "3               XSS               XSS  \n",
       "4               XSS               XSS  \n",
       "...             ...               ...  \n",
       "4995            XSS               XSS  \n",
       "4996            XSS               XSS  \n",
       "4997            XSS               XSS  \n",
       "4998            XSS               XSS  \n",
       "4999            XSS               XSS  \n",
       "\n",
       "[5000 rows x 4 columns]"
      ]
     },
     "execution_count": 54,
     "metadata": {},
     "output_type": "execute_result"
    }
   ],
   "source": [
    "data_test = pd.read_csv('./eksperimen.csv', encoding='cp1252')\n",
    "data_test"
   ]
  },
  {
   "cell_type": "code",
   "execution_count": 55,
   "metadata": {},
   "outputs": [
    {
     "data": {
      "text/plain": [
       "32"
      ]
     },
     "execution_count": 55,
     "metadata": {},
     "output_type": "execute_result"
    }
   ],
   "source": [
    "data_test['URL'].duplicated().sum()"
   ]
  },
  {
   "cell_type": "code",
   "execution_count": 58,
   "metadata": {},
   "outputs": [],
   "source": [
    "data_test = data_test.drop_duplicates()"
   ]
  },
  {
   "cell_type": "code",
   "execution_count": 59,
   "metadata": {},
   "outputs": [
    {
     "data": {
      "text/plain": [
       "0"
      ]
     },
     "execution_count": 59,
     "metadata": {},
     "output_type": "execute_result"
    }
   ],
   "source": [
    "data_test['URL'].duplicated().sum()"
   ]
  },
  {
   "cell_type": "markdown",
   "metadata": {},
   "source": [
    "### Evaluasi dengan API"
   ]
  },
  {
   "cell_type": "code",
   "execution_count": 60,
   "metadata": {},
   "outputs": [
    {
     "name": "stdout",
     "output_type": "stream",
     "text": [
      "[[1968    0]\n",
      " [   0 3000]]\n"
     ]
    }
   ],
   "source": [
    "expected = data_test['result_model']\n",
    "predicted = data_test['result_withAPI']\n",
    "results = confusion_matrix(expected, predicted)\n",
    "print(results)\n",
    "\n",
    "# Output :\n",
    "#              |   pred. nonxss    |   pred. xss    |\n",
    "# true nonxss  |       TP          |       FN       |\n",
    "# true xss     |       FP          |       TN       |"
   ]
  },
  {
   "cell_type": "code",
   "execution_count": 68,
   "metadata": {},
   "outputs": [
    {
     "name": "stdout",
     "output_type": "stream",
     "text": [
      "Classification report : \n",
      "               precision    recall  f1-score   support\n",
      "\n",
      "     Non-XSS       1.00      1.00      1.00      1993\n",
      "         XSS       1.00      1.00      1.00      3007\n",
      "\n",
      "    accuracy                           1.00      5000\n",
      "   macro avg       1.00      1.00      1.00      5000\n",
      "weighted avg       1.00      1.00      1.00      5000\n",
      "\n"
     ]
    }
   ],
   "source": [
    "matrix = classification_report(expected,predicted)\n",
    "print('Classification report : \\n',matrix)"
   ]
  },
  {
   "cell_type": "markdown",
   "metadata": {},
   "source": [
    "#### Visualisasi Dengan API"
   ]
  },
  {
   "cell_type": "code",
   "execution_count": 66,
   "metadata": {},
   "outputs": [],
   "source": [
    "import seaborn as sns\n",
    "import matplotlib.pyplot as plt"
   ]
  },
  {
   "cell_type": "code",
   "execution_count": 67,
   "metadata": {},
   "outputs": [
    {
     "data": {
      "image/png": "[encoded data removed]",
      "text/plain": [
       "<Figure size 576x360 with 2 Axes>"
      ]
     },
     "metadata": {
      "needs_background": "light"
     },
     "output_type": "display_data"
    }
   ],
   "source": [
    "f, ax = plt.subplots(figsize=(8,5))\n",
    "sns.heatmap(confusion_matrix(expected, predicted), annot=True, fmt=\".0f\", ax=ax)\n",
    "plt.xlabel(\"y_head\")\n",
    "plt.ylabel(\"y_true\")\n",
    "plt.show()"
   ]
  },
  {
   "cell_type": "markdown",
   "metadata": {},
   "source": [
    "### Evaluasi tanpa API"
   ]
  },
  {
   "cell_type": "code",
   "execution_count": 62,
   "metadata": {
    "scrolled": true
   },
   "outputs": [
    {
     "name": "stdout",
     "output_type": "stream",
     "text": [
      "[[1993    0]\n",
      " [   0 3007]]\n"
     ]
    }
   ],
   "source": [
    "expected = data_test['result_model']\n",
    "predicted = data_test['result_withoutAPI']\n",
    "results = confusion_matrix(expected, predicted)\n",
    "print(results)\n",
    "\n",
    "# Output :\n",
    "#              |   pred. nonxss    |   pred. xss    |\n",
    "# true nonxss  |       TP          |       FN       |\n",
    "# true xss     |       FP          |       TN       |"
   ]
  },
  {
   "cell_type": "code",
   "execution_count": 63,
   "metadata": {},
   "outputs": [
    {
     "name": "stdout",
     "output_type": "stream",
     "text": [
      "Classification report : \n",
      "               precision    recall  f1-score   support\n",
      "\n",
      "     Non-XSS       1.00      1.00      1.00      1993\n",
      "         XSS       1.00      1.00      1.00      3007\n",
      "\n",
      "    accuracy                           1.00      5000\n",
      "   macro avg       1.00      1.00      1.00      5000\n",
      "weighted avg       1.00      1.00      1.00      5000\n",
      "\n"
     ]
    }
   ],
   "source": [
    "matrix = classification_report(expected,predicted)\n",
    "print('Classification report : \\n',matrix)"
   ]
  },
  {
   "cell_type": "markdown",
   "metadata": {},
   "source": [
    "#### Visualisasi Tanpa API"
   ]
  },
  {
   "cell_type": "code",
   "execution_count": 64,
   "metadata": {},
   "outputs": [],
   "source": [
    "import seaborn as sns\n",
    "import matplotlib.pyplot as plt"
   ]
  },
  {
   "cell_type": "code",
   "execution_count": 65,
   "metadata": {},
   "outputs": [
    {
     "data": {
      "image/png": "[encoded data removed]",
      "text/plain": [
       "<Figure size 576x360 with 2 Axes>"
      ]
     },
     "metadata": {
      "needs_background": "light"
     },
     "output_type": "display_data"
    }
   ],
   "source": [
    "f, ax = plt.subplots(figsize=(8,5))\n",
    "sns.heatmap(confusion_matrix(expected, predicted), annot=True, fmt=\".0f\", ax=ax)\n",
    "plt.xlabel(\"y_head\")\n",
    "plt.ylabel(\"y_true\")\n",
    "plt.show()"
   ]
  },
  {
   "cell_type": "code",
   "execution_count": null,
   "metadata": {},
   "outputs": [],
   "source": []
  }
 ],
 "metadata": {
  "kernelspec": {
   "display_name": "Python 3",
   "language": "python",
   "name": "python3"
  },
  "language_info": {
   "codemirror_mode": {
    "name": "ipython",
    "version": 3
   },
   "file_extension": ".py",
   "mimetype": "text/x-python",
   "name": "python",
   "nbconvert_exporter": "python",
   "pygments_lexer": "ipython3",
   "version": "3.6.5"
  }
 },
 "nbformat": 4,
 "nbformat_minor": 2
}
